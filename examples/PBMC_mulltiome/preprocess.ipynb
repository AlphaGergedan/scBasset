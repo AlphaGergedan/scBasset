{
 "cells": [
  {
   "cell_type": "code",
   "execution_count": 1,
   "metadata": {},
   "outputs": [],
   "source": [
    "import numpy as np\n",
    "import pandas as pd\n",
    "import h5py\n",
    "import scipy\n",
    "import scanpy as sc\n",
    "import anndata\n",
    "import pkg_resources\n",
    "from scbasset.utils import *\n",
    "\n",
    "# plotting functions\n",
    "import seaborn as sns\n",
    "import matplotlib.pyplot as plt\n",
    "\n",
    "import os"
   ]
  },
  {
   "cell_type": "markdown",
   "metadata": {},
   "source": [
    "### read example from 10x multiome output"
   ]
  },
  {
   "cell_type": "code",
   "execution_count": 2,
   "metadata": {},
   "outputs": [],
   "source": [
    "data_path = '../../data/multiome_example/'\n",
    "\n",
    "h5_file = data_path + '/raw_multiome/pbmc_granulocyte_sorted_3k_filtered_feature_bc_matrix.h5'\n",
    "bed_file = data_path + '/raw_multiome/pbmc_granulocyte_sorted_3k_atac_peaks.bed'"
   ]
  },
  {
   "cell_type": "code",
   "execution_count": 3,
   "metadata": {},
   "outputs": [
    {
     "name": "stderr",
     "output_type": "stream",
     "text": [
      "Variable names are not unique. To make them unique, call `.var_names_make_unique`.\n"
     ]
    }
   ],
   "source": [
    "peak = pd.read_csv(bed_file, sep='\\t', names=['chr','start','end'])\n",
    "ad = sc.read_10x_h5(h5_file, gex_only=False)"
   ]
  },
  {
   "cell_type": "markdown",
   "metadata": {},
   "source": [
    "### filtering"
   ]
  },
  {
   "cell_type": "code",
   "execution_count": 4,
   "metadata": {},
   "outputs": [
    {
     "name": "stderr",
     "output_type": "stream",
     "text": [
      "Trying to set attribute `.var` of view, copying.\n",
      "Trying to set attribute `.obs` of view, copying.\n",
      "Variable names are not unique. To make them unique, call `.var_names_make_unique`.\n",
      "Variable names are not unique. To make them unique, call `.var_names_make_unique`.\n",
      "Variable names are not unique. To make them unique, call `.var_names_make_unique`.\n",
      "Variable names are not unique. To make them unique, call `.var_names_make_unique`.\n",
      "Variable names are not unique. To make them unique, call `.var_names_make_unique`.\n",
      "Variable names are not unique. To make them unique, call `.var_names_make_unique`.\n"
     ]
    }
   ],
   "source": [
    "ad_rna = ad[:, ad.var['feature_types']=='Gene Expression']\n",
    "ad_atac = ad[:, ad.var['feature_types']=='Peaks']\n",
    "ad_atac.var['chr'] = peak['chr'].values\n",
    "ad_atac.var['start'] = peak['start'].values\n",
    "ad_atac.var['end'] = peak['end'].values\n",
    "\n",
    "# basic stats\n",
    "sc.pp.filter_cells(ad_rna, min_genes=0)\n",
    "sc.pp.filter_genes(ad_rna, min_cells=0)\n",
    "sc.pp.filter_cells(ad_atac, min_genes=0)\n",
    "sc.pp.filter_genes(ad_atac, min_cells=0)\n",
    "\n",
    "# a gene need to be expressed in 5% cells\n",
    "# a peak need to be accessible in 5% cells\n",
    "thres = int(ad.shape[0]*0.05)\n",
    "ad_rna = ad_rna[:, ad_rna.var['n_cells']>thres]\n",
    "ad_atac = ad_atac[:, ad_atac.var['n_cells']>thres]"
   ]
  },
  {
   "cell_type": "markdown",
   "metadata": {},
   "source": [
    "### save h5ad and filtered bed"
   ]
  },
  {
   "cell_type": "code",
   "execution_count": 5,
   "metadata": {},
   "outputs": [
    {
     "name": "stderr",
     "output_type": "stream",
     "text": [
      "/home/yuanh/.local/lib/python3.7/site-packages/anndata/_core/anndata.py:1228: FutureWarning: The `inplace` parameter in pandas.Categorical.reorder_categories is deprecated and will be removed in a future version. Reordering categories will always return a new Categorical object.\n",
      "  c.reorder_categories(natsorted(c.categories), inplace=True)\n",
      "/home/yuanh/.local/lib/python3.7/site-packages/anndata/_core/anndata.py:1237: ImplicitModificationWarning: Initializing view as actual.\n",
      "  \"Initializing view as actual.\", ImplicitModificationWarning\n",
      "Trying to set attribute `.var` of view, copying.\n",
      "... storing 'feature_types' as categorical\n",
      "/home/yuanh/.local/lib/python3.7/site-packages/anndata/_core/anndata.py:1228: FutureWarning: The `inplace` parameter in pandas.Categorical.reorder_categories is deprecated and will be removed in a future version. Reordering categories will always return a new Categorical object.\n",
      "  c.reorder_categories(natsorted(c.categories), inplace=True)\n",
      "Trying to set attribute `.var` of view, copying.\n",
      "... storing 'genome' as categorical\n",
      "/home/yuanh/.local/lib/python3.7/site-packages/anndata/_core/anndata.py:1228: FutureWarning: The `inplace` parameter in pandas.Categorical.reorder_categories is deprecated and will be removed in a future version. Reordering categories will always return a new Categorical object.\n",
      "  c.reorder_categories(natsorted(c.categories), inplace=True)\n",
      "Trying to set attribute `.var` of view, copying.\n",
      "... storing 'chr' as categorical\n"
     ]
    }
   ],
   "source": [
    "os.makedirs('%s/processed'%data_path, exist_ok=True)\n",
    "\n",
    "chrs = ['chr'+str(i) for i in range(1,23)] + ['chrX', 'chrY']\n",
    "ad_atac = ad_atac[:, ad_atac.var['chr'].isin(chrs)]\n",
    "ad_atac.write('%s/processed/pbmc_multiome_ad.h5ad'%data_path)\n",
    "ad_atac.var.loc[:,['chr','start','end']].to_csv('%s/processed/pbmc_multiome_peaks.bed'%data_path, header=False, sep='\\t', index=False)"
   ]
  },
  {
   "cell_type": "markdown",
   "metadata": {},
   "source": [
    "### create inputs for scBasset"
   ]
  },
  {
   "cell_type": "code",
   "execution_count": 6,
   "metadata": {},
   "outputs": [],
   "source": [
    "filtered_bed_file = '%s/processed/pbmc_multiome_peaks.bed'%data_path # path to save the filtered peak atlas\n",
    "ad_file = '%s/processed/pbmc_multiome_ad.h5ad'%data_path\n",
    "output_file ='%s/processed/pbmc_multiome_train_test_val.h5'%data_path"
   ]
  },
  {
   "cell_type": "code",
   "execution_count": 8,
   "metadata": {},
   "outputs": [],
   "source": [
    "# fasta file depending the the genome build for dataset\n",
    "# for hg38: please download hg38.fa.gz at: https://hgdownload.cse.ucsc.edu/goldenpath/hg38/bigZips/\n",
    "# unzip and use fasta_file to indicate the path to hg38.fa\n",
    "fasta_file = '/home/yuanh/genomes/hg38/hg38.fa' "
   ]
  },
  {
   "cell_type": "code",
   "execution_count": 9,
   "metadata": {},
   "outputs": [],
   "source": [
    "make_h5(input_ad=ad_file, \n",
    "        input_bed=filtered_bed_file, \n",
    "        input_fasta=fasta_file, \n",
    "        out_file=output_file)"
   ]
  },
  {
   "cell_type": "markdown",
   "metadata": {},
   "source": [
    "### alternatively you can download my pre-processed files from google cloud bucket"
   ]
  },
  {
   "cell_type": "code",
   "execution_count": null,
   "metadata": {},
   "outputs": [],
   "source": [
    "import subprocess\n",
    "import os\n",
    "\n",
    "download_savepath = '../../data/download'\n",
    "os.makedirs(download_savepath, exist_ok=True)\n",
    "\n",
    "if not os.path.exists('%s/pbmc_multiome_ad.h5ad'%download_savepath):\n",
    "    subprocess.run('wget -P %s https://storage.googleapis.com/scbasset_tutorial_data/pbmc_multiome_ad.h5ad'%download_savepath, shell=True)\n",
    "\n",
    "if not os.path.exists('%s/pbmc_multiome_peaks.bed'%download_savepath):\n",
    "    subprocess.run('wget -P %s https://storage.googleapis.com/scbasset_tutorial_data/pbmc_multiome_peaks.bed'%download_savepath, shell=True)\n",
    "\n",
    "if not os.path.exists('%s/pbmc_multiome_train_test_val.h5'%download_savepath):\n",
    "    subprocess.run('wget -P %s https://storage.googleapis.com/scbasset_tutorial_data/pbmc_multiome_train_test_val.h5'%download_savepath, shell=True)\n"
   ]
  },
  {
   "cell_type": "code",
   "execution_count": null,
   "metadata": {},
   "outputs": [],
   "source": []
  }
 ],
 "metadata": {
  "kernelspec": {
   "display_name": "Python 3",
   "language": "python",
   "name": "python3"
  },
  "language_info": {
   "codemirror_mode": {
    "name": "ipython",
    "version": 3
   },
   "file_extension": ".py",
   "mimetype": "text/x-python",
   "name": "python",
   "nbconvert_exporter": "python",
   "pygments_lexer": "ipython3",
   "version": "3.7.10"
  }
 },
 "nbformat": 4,
 "nbformat_minor": 4
}
