{
 "cells": [
  {
   "cell_type": "code",
   "execution_count": 1,
   "id": "accredited-great",
   "metadata": {},
   "outputs": [],
   "source": [
    "import anndata\n",
    "import numpy as np\n",
    "import h5py\n",
    "import matplotlib.pyplot as plt\n",
    "import os\n",
    "import math\n",
    "import pickle\n",
    "import seaborn as sns\n",
    "import scipy\n",
    "import sys\n",
    "import scanpy as sc\n",
    "import pandas as pd\n",
    "\n",
    "from scbasset.utils import *"
   ]
  },
  {
   "cell_type": "code",
   "execution_count": 19,
   "id": "cordless-bulgaria",
   "metadata": {},
   "outputs": [],
   "source": [
    "ad_file = '../../data/downloads/buen_ad.h5ad'\n",
    "ad = anndata.read_h5ad(ad_file)"
   ]
  },
  {
   "cell_type": "code",
   "execution_count": 38,
   "id": "nominated-rates",
   "metadata": {},
   "outputs": [],
   "source": [
    "batch_m = pd.get_dummies(ad.obs['batch'])\n",
    "batch_m.to_csv('batch_m.csv')"
   ]
  },
  {
   "cell_type": "markdown",
   "id": "equal-passage",
   "metadata": {},
   "source": [
    "### preprocess"
   ]
  },
  {
   "cell_type": "code",
   "execution_count": null,
   "id": "seasonal-fraction",
   "metadata": {},
   "outputs": [],
   "source": [
    "!python ../../bin/scbasset_preprocess.py --ad_file ../../data/downloads/buen_ad.h5ad --input_fasta /home/yuanh/programs/genomes/hg19/hg19.fa"
   ]
  },
  {
   "cell_type": "markdown",
   "id": "recent-fiction",
   "metadata": {},
   "source": [
    "### train"
   ]
  },
  {
   "cell_type": "code",
   "execution_count": null,
   "id": "lyric-possession",
   "metadata": {},
   "outputs": [],
   "source": [
    "!python ../../bin/scbasset_bc_train.py --input_folder processed/ --out_path output_bc --batch_csv batch_m.csv --l2 1e-8 --epochs 2000"
   ]
  },
  {
   "cell_type": "code",
   "execution_count": null,
   "id": "simplified-roman",
   "metadata": {},
   "outputs": [],
   "source": []
  }
 ],
 "metadata": {
  "kernelspec": {
   "display_name": "Python 3",
   "language": "python",
   "name": "python3"
  },
  "language_info": {
   "codemirror_mode": {
    "name": "ipython",
    "version": 3
   },
   "file_extension": ".py",
   "mimetype": "text/x-python",
   "name": "python",
   "nbconvert_exporter": "python",
   "pygments_lexer": "ipython3",
   "version": "3.7.3"
  }
 },
 "nbformat": 4,
 "nbformat_minor": 5
}
